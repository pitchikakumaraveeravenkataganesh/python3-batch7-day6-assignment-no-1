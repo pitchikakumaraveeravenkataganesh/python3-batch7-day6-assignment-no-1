{
  "nbformat": 4,
  "nbformat_minor": 0,
  "metadata": {
    "colab": {
      "name": "Untitled6.ipynb",
      "provenance": [],
      "authorship_tag": "ABX9TyOixMfUeTc1vQpBGdkRc0n6",
      "include_colab_link": true
    },
    "kernelspec": {
      "name": "python3",
      "display_name": "Python 3"
    }
  },
  "cells": [
    {
      "cell_type": "markdown",
      "metadata": {
        "id": "view-in-github",
        "colab_type": "text"
      },
      "source": [
        "<a href=\"https://colab.research.google.com/github/pitchikakumaraveeravenkataganesh/python3-batch7-day6-assignment-no-1/blob/master/Untitled6.ipynb\" target=\"_parent\"><img src=\"https://colab.research.google.com/assets/colab-badge.svg\" alt=\"Open In Colab\"/></a>"
      ]
    },
    {
      "cell_type": "code",
      "metadata": {
        "id": "FYzi_gQxX0UH",
        "colab_type": "code",
        "colab": {}
      },
      "source": [
        " class Bank_Account:\n",
        "  def __init__(self):\n",
        "    self.balance=0\n",
        "    print(\"Hello!!! Welcome to the Deposit& Withdrawal Machine\")\n",
        "    def deposit(self):\n",
        "      amount=float(input(\"Enter amount to be Deposited:   \"))\n",
        "      self.balance += amount\n",
        "      print(\"\\n Amount Deposited:\", amount)\n",
        "    def Withdraw(self):\n",
        "        amount=float(input(\"Enter amount to be withdrawn:   \"))\n",
        "        if self.balance>=amount:\n",
        "           self.balance-=amount\n",
        "           print(\"\\n You  Withdrew:\", amount)\n",
        "        else:\n",
        "           print(\"\\n Insufficient balance  \")\n",
        "    def display(self):\n",
        "              print(\"\\n Net Aviable Balance=\",self.balance)\n",
        "\n",
        "              #driver code\n",
        "              #creating an object of class\n",
        "              s=Bank__Account()\n",
        "              #calling functions with that class objects\n",
        "              s.deposit()\n",
        "              s.withdraw()\n",
        "              s.display()"
      ],
      "execution_count": 14,
      "outputs": []
    },
    {
      "cell_type": "code",
      "metadata": {
        "id": "aoW0E9HzoB2H",
        "colab_type": "code",
        "colab": {}
      },
      "source": [
        ""
      ],
      "execution_count": 112,
      "outputs": []
    }
  ]
}